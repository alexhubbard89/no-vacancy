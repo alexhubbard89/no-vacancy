{
 "cells": [
  {
   "cell_type": "markdown",
   "metadata": {},
   "source": [
    "Description\n",
    "==\n",
    "\n",
    "Right now image comparison is slow because I have to read in an image, vectorize it, and gray it before I compare it. I should just store the vector.\n",
    "\n",
    "\n",
    "---\n",
    "Flow:\n",
    "- get image\n",
    "- convert to gray\n",
    "- find face\n",
    "- subset on face\n",
    "- save vector to postgres\n",
    "- save full image to s3\n"
   ]
  },
  {
   "cell_type": "code",
   "execution_count": 11,
   "metadata": {},
   "outputs": [],
   "source": [
    "import pickle\n",
    "import boto3\n",
    "import json\n",
    "import cv2\n",
    "import numpy as np\n",
    "import cv2\n",
    "from skimage.metrics import structural_similarity\n",
    "import matplotlib.pyplot as plt\n",
    "%matplotlib inline\n",
    "\n",
    "import pandas as pd\n",
    "import psycopg2\n",
    "import urllib.parse as urlparse\n",
    "import os\n",
    "## fast writes\n",
    "from sqlalchemy import event, create_engine\n",
    "import psycopg2.extras\n",
    "import psycopg2.errorcodes\n",
    "\n",
    "def open_connection():\n",
    "    connection = psycopg2.connect(\n",
    "        database=os.environ['RACK_DATABASE'],\n",
    "        user=os.environ['RACK_USERNAME'],\n",
    "        password=os.environ['RACK_PASSWORD'],\n",
    "        host=os.environ['RACK_HOST'],\n",
    "        port=os.environ['RACK_PORT']\n",
    "        )\n",
    "    return connection\n",
    "\n",
    "engine = create_engine('postgresql://{}:{}@{}/{}'.format(os.environ['RACK_USERNAME'],\n",
    "                                                            os.environ['RACK_PASSWORD'],\n",
    "                                                            os.environ['RACK_HOST'],\n",
    "                                                            os.environ['RACK_DATABASE']\n",
    "                                                           ))\n",
    "\n",
    "def convertToRGB(image):\n",
    "    return cv2.cvtColor(image, cv2.COLOR_BGR2RGB)\n",
    "\n",
    "haar_cascade_face = cv2.CascadeClassifier('haarcascade_frontalface_default.xml')\n",
    "def get_gray(faces, image, gray):\n",
    "    for (x,y,w,h) in faces:\n",
    "        cv2.rectangle(image, (x, y), (x+w, y+h), (0, 255, 0), 2)\n",
    "        image_gray = gray[y:y+h, x:x+w]\n",
    "    return image_gray\n",
    "\n",
    "def get_single_face(gray):\n",
    "    for i in range(25):\n",
    "        faces = haar_cascade_face.detectMultiScale(gray, 1.1, i)\n",
    "        if len(faces) == 1:\n",
    "            return faces, True\n",
    "        elif len(faces) == 0:\n",
    "            return [], False\n",
    "    return [], False"
   ]
  },
  {
   "cell_type": "code",
   "execution_count": 142,
   "metadata": {},
   "outputs": [
    {
     "data": {
      "text/html": [
       "<div>\n",
       "<style scoped>\n",
       "    .dataframe tbody tr th:only-of-type {\n",
       "        vertical-align: middle;\n",
       "    }\n",
       "\n",
       "    .dataframe tbody tr th {\n",
       "        vertical-align: top;\n",
       "    }\n",
       "\n",
       "    .dataframe thead th {\n",
       "        text-align: right;\n",
       "    }\n",
       "</style>\n",
       "<table border=\"1\" class=\"dataframe\">\n",
       "  <thead>\n",
       "    <tr style=\"text-align: right;\">\n",
       "      <th></th>\n",
       "      <th>id</th>\n",
       "      <th>url</th>\n",
       "    </tr>\n",
       "  </thead>\n",
       "  <tbody>\n",
       "    <tr>\n",
       "      <th>26</th>\n",
       "      <td>62</td>\n",
       "      <td>http://www.pollyklaas.org/missing/kids/images/...</td>\n",
       "    </tr>\n",
       "    <tr>\n",
       "      <th>27</th>\n",
       "      <td>63</td>\n",
       "      <td>http://www.pollyklaas.org/missing/kids/images/...</td>\n",
       "    </tr>\n",
       "    <tr>\n",
       "      <th>28</th>\n",
       "      <td>64</td>\n",
       "      <td>http://www.pollyklaas.org/missing/kids/images/...</td>\n",
       "    </tr>\n",
       "    <tr>\n",
       "      <th>29</th>\n",
       "      <td>65</td>\n",
       "      <td>http://www.pollyklaas.org/missing/kids/images/...</td>\n",
       "    </tr>\n",
       "    <tr>\n",
       "      <th>30</th>\n",
       "      <td>35</td>\n",
       "      <td>http://www.pollyklaas.org/missing/kids/breitri...</td>\n",
       "    </tr>\n",
       "  </tbody>\n",
       "</table>\n",
       "</div>"
      ],
      "text/plain": [
       "    id                                                url\n",
       "26  62  http://www.pollyklaas.org/missing/kids/images/...\n",
       "27  63  http://www.pollyklaas.org/missing/kids/images/...\n",
       "28  64  http://www.pollyklaas.org/missing/kids/images/...\n",
       "29  65  http://www.pollyklaas.org/missing/kids/images/...\n",
       "30  35  http://www.pollyklaas.org/missing/kids/breitri..."
      ]
     },
     "execution_count": 142,
     "metadata": {},
     "output_type": "execute_result"
    }
   ],
   "source": [
    "victim_with_id = pd.read_sql_query(\"select * from victim_photo\", open_connection())\n",
    "victim_with_id.tail()"
   ]
  },
  {
   "cell_type": "code",
   "execution_count": 135,
   "metadata": {
    "scrolled": true
   },
   "outputs": [],
   "source": [
    "def get_vector(id_):    \n",
    "    ## get victim image\n",
    "    sql_ = \"\"\"\n",
    "    SELECT url \n",
    "    FROM victim_photo\n",
    "    WHERE id = {}\n",
    "    \"\"\".format(id_)\n",
    "    url = pd.read_sql_query(sql_, open_connection()).loc[0, 'url']\n",
    "    file_name = url.split('/')[-1].split('.')[0]\n",
    "    path = '../../data/victim/{}/{}.jpg'.format(id_, file_name)\n",
    "    image = cv2.imread(path)\n",
    "\n",
    "    gray = cv2.cvtColor(image, cv2.COLOR_BGR2GRAY)\n",
    "    faces, found = get_single_face(gray)\n",
    "    if found:\n",
    "        return get_gray(faces, image, gray)\n",
    "    else:\n",
    "        return None"
   ]
  },
  {
   "cell_type": "code",
   "execution_count": 143,
   "metadata": {},
   "outputs": [
    {
     "data": {
      "text/plain": [
       "array([[19, 15, 14, ..., 36, 42, 57],\n",
       "       [19, 17, 17, ..., 33, 34, 51],\n",
       "       [17, 18, 20, ..., 37, 26, 45],\n",
       "       ...,\n",
       "       [17, 23, 19, ..., 17, 13, 20],\n",
       "       [14, 18, 16, ..., 21, 13, 18],\n",
       "       [14, 12, 10, ..., 33, 25, 27]], dtype=uint8)"
      ]
     },
     "execution_count": 143,
     "metadata": {},
     "output_type": "execute_result"
    }
   ],
   "source": [
    "get_vector(35)"
   ]
  },
  {
   "cell_type": "code",
   "execution_count": 144,
   "metadata": {},
   "outputs": [],
   "source": [
    "victim_with_id['face_vector'] = victim_with_id['id'].apply(lambda row: [get_vector(row)])"
   ]
  },
  {
   "cell_type": "code",
   "execution_count": 145,
   "metadata": {},
   "outputs": [
    {
     "data": {
      "text/html": [
       "<div>\n",
       "<style scoped>\n",
       "    .dataframe tbody tr th:only-of-type {\n",
       "        vertical-align: middle;\n",
       "    }\n",
       "\n",
       "    .dataframe tbody tr th {\n",
       "        vertical-align: top;\n",
       "    }\n",
       "\n",
       "    .dataframe thead th {\n",
       "        text-align: right;\n",
       "    }\n",
       "</style>\n",
       "<table border=\"1\" class=\"dataframe\">\n",
       "  <thead>\n",
       "    <tr style=\"text-align: right;\">\n",
       "      <th></th>\n",
       "      <th>id</th>\n",
       "      <th>url</th>\n",
       "      <th>face_vector</th>\n",
       "    </tr>\n",
       "  </thead>\n",
       "  <tbody>\n",
       "    <tr>\n",
       "      <th>26</th>\n",
       "      <td>62</td>\n",
       "      <td>http://www.pollyklaas.org/missing/kids/images/...</td>\n",
       "      <td>[[[4, 4, 4, 4, 6, 6, 7, 6, 4, 4, 4, 5, 5, 5, 9...</td>\n",
       "    </tr>\n",
       "    <tr>\n",
       "      <th>27</th>\n",
       "      <td>63</td>\n",
       "      <td>http://www.pollyklaas.org/missing/kids/images/...</td>\n",
       "      <td>[[[137, 142, 148, 152, 154, 149, 139, 128, 120...</td>\n",
       "    </tr>\n",
       "    <tr>\n",
       "      <th>28</th>\n",
       "      <td>64</td>\n",
       "      <td>http://www.pollyklaas.org/missing/kids/images/...</td>\n",
       "      <td>[[[47, 50, 51, 51, 50, 45, 43, 41, 40, 40, 40,...</td>\n",
       "    </tr>\n",
       "    <tr>\n",
       "      <th>29</th>\n",
       "      <td>65</td>\n",
       "      <td>http://www.pollyklaas.org/missing/kids/images/...</td>\n",
       "      <td>[[[31, 31, 34, 35, 36, 36, 36, 35, 34, 33, 33,...</td>\n",
       "    </tr>\n",
       "    <tr>\n",
       "      <th>30</th>\n",
       "      <td>35</td>\n",
       "      <td>http://www.pollyklaas.org/missing/kids/breitri...</td>\n",
       "      <td>[[[19, 15, 14, 16, 16, 14, 12, 21, 24, 19, 15,...</td>\n",
       "    </tr>\n",
       "  </tbody>\n",
       "</table>\n",
       "</div>"
      ],
      "text/plain": [
       "    id                                                url  \\\n",
       "26  62  http://www.pollyklaas.org/missing/kids/images/...   \n",
       "27  63  http://www.pollyklaas.org/missing/kids/images/...   \n",
       "28  64  http://www.pollyklaas.org/missing/kids/images/...   \n",
       "29  65  http://www.pollyklaas.org/missing/kids/images/...   \n",
       "30  35  http://www.pollyklaas.org/missing/kids/breitri...   \n",
       "\n",
       "                                          face_vector  \n",
       "26  [[[4, 4, 4, 4, 6, 6, 7, 6, 4, 4, 4, 5, 5, 5, 9...  \n",
       "27  [[[137, 142, 148, 152, 154, 149, 139, 128, 120...  \n",
       "28  [[[47, 50, 51, 51, 50, 45, 43, 41, 40, 40, 40,...  \n",
       "29  [[[31, 31, 34, 35, 36, 36, 36, 35, 34, 33, 33,...  \n",
       "30  [[[19, 15, 14, 16, 16, 14, 12, 21, 24, 19, 15,...  "
      ]
     },
     "execution_count": 145,
     "metadata": {},
     "output_type": "execute_result"
    }
   ],
   "source": [
    "victim_with_id.tail()"
   ]
  },
  {
   "cell_type": "code",
   "execution_count": 309,
   "metadata": {},
   "outputs": [],
   "source": [
    "def compare_images(gray_cap, gray_v, return_image=False):\n",
    "    ## format image to compare\n",
    "    H, W = gray_cap.shape\n",
    "    gray_cap_area = H*W    \n",
    "\n",
    "    \n",
    "    ## prep for comparison\n",
    "    H, W = np.shape(gray_v)\n",
    "    image_area = H*W\n",
    "\n",
    "\n",
    "    if gray_cap_area > image_area:\n",
    "        gray_v = cv2.resize(gray_v, gray_cap.shape)\n",
    "    elif gray_cap_area < image_area:\n",
    "        gray_cap = cv2.resize(gray_cap, gray_v.shape)\n",
    "\n",
    "    if return_image == False:\n",
    "        return structural_similarity(gray_cap, gray_v)\n",
    "    else:\n",
    "        return structural_similarity(gray_cap, gray_v), image"
   ]
  },
  {
   "cell_type": "code",
   "execution_count": 148,
   "metadata": {},
   "outputs": [
    {
     "data": {
      "text/plain": [
       "<matplotlib.image.AxesImage at 0x12b11c210>"
      ]
     },
     "execution_count": 148,
     "metadata": {},
     "output_type": "execute_result"
    },
    {
     "data": {
      "image/png": "[encoded data removed]",
      "text/plain": [
       "<Figure size 432x288 with 1 Axes>"
      ]
     },
     "metadata": {
      "needs_background": "light"
     },
     "output_type": "display_data"
    }
   ],
   "source": [
    "cap = cv2.VideoCapture(0)\n",
    "ret, image_cap = cap.read()\n",
    "gray = cv2.cvtColor(image_cap, cv2.COLOR_BGR2GRAY)\n",
    "faces = haar_cascade_face.detectMultiScale(gray, 1.1, 2)\n",
    "gray_cap = get_gray(faces, image_cap, gray)\n",
    "\n",
    "H, W = gray_cap.shape\n",
    "gray_cap_area = H*W\n",
    "\n",
    "plt.imshow(convertToRGB(gray_cap))"
   ]
  },
  {
   "cell_type": "code",
   "execution_count": 172,
   "metadata": {},
   "outputs": [
    {
     "data": {
      "text/plain": [
       "0.5300665522014848"
      ]
     },
     "execution_count": 172,
     "metadata": {},
     "output_type": "execute_result"
    }
   ],
   "source": [
    "compare_images(gray_cap, victim_with_id.loc[0, 'face_vector'], return_image=False)"
   ]
  },
  {
   "cell_type": "code",
   "execution_count": 180,
   "metadata": {},
   "outputs": [
    {
     "data": {
      "text/plain": [
       "'update victim_photo SET face_vector = ([[1, 2, 3] [1, 2, 3]]) where id = 1010'"
      ]
     },
     "execution_count": 180,
     "metadata": {},
     "output_type": "execute_result"
    }
   ],
   "source": [
    "\"update victim_photo SET face_vector = ([[1, 2, 3] [1, 2, 3]]) where id = 1010\""
   ]
  },
  {
   "cell_type": "code",
   "execution_count": 178,
   "metadata": {},
   "outputs": [
    {
     "data": {
      "text/plain": [
       "array([[144, 137, 127, ...,  42,  42,  39],\n",
       "       [149, 131, 126, ...,  44,  45,  40],\n",
       "       [145, 126, 121, ...,  44,  46,  41],\n",
       "       ...,\n",
       "       [ 41,  40,  39, ...,  16,  17,  23],\n",
       "       [ 41,  41,  39, ...,  17,  18,  14],\n",
       "       [ 40,  41,  40, ...,  20,  21,  10]], dtype=uint8)"
      ]
     },
     "execution_count": 178,
     "metadata": {},
     "output_type": "execute_result"
    }
   ],
   "source": [
    "victim_with_id.loc[0, 'face_vector'][0]"
   ]
  },
  {
   "cell_type": "code",
   "execution_count": null,
   "metadata": {},
   "outputs": [],
   "source": []
  },
  {
   "cell_type": "code",
   "execution_count": null,
   "metadata": {},
   "outputs": [],
   "source": []
  },
  {
   "cell_type": "code",
   "execution_count": 280,
   "metadata": {},
   "outputs": [],
   "source": [
    "# kepp_this = victim_with_id.copy()\n",
    "# kepp_this"
   ]
  },
  {
   "cell_type": "code",
   "execution_count": 293,
   "metadata": {},
   "outputs": [
    {
     "data": {
      "text/html": [
       "<div>\n",
       "<style scoped>\n",
       "    .dataframe tbody tr th:only-of-type {\n",
       "        vertical-align: middle;\n",
       "    }\n",
       "\n",
       "    .dataframe tbody tr th {\n",
       "        vertical-align: top;\n",
       "    }\n",
       "\n",
       "    .dataframe thead th {\n",
       "        text-align: right;\n",
       "    }\n",
       "</style>\n",
       "<table border=\"1\" class=\"dataframe\">\n",
       "  <thead>\n",
       "    <tr style=\"text-align: right;\">\n",
       "      <th></th>\n",
       "      <th>id</th>\n",
       "      <th>url</th>\n",
       "      <th>face_vector</th>\n",
       "    </tr>\n",
       "  </thead>\n",
       "  <tbody>\n",
       "    <tr>\n",
       "      <th>26</th>\n",
       "      <td>62</td>\n",
       "      <td>http://www.pollyklaas.org/missing/kids/images/...</td>\n",
       "      <td>b'\\x80\\x03cnumpy.core.multiarray\\n_reconstruct...</td>\n",
       "    </tr>\n",
       "    <tr>\n",
       "      <th>27</th>\n",
       "      <td>63</td>\n",
       "      <td>http://www.pollyklaas.org/missing/kids/images/...</td>\n",
       "      <td>b'\\x80\\x03cnumpy.core.multiarray\\n_reconstruct...</td>\n",
       "    </tr>\n",
       "    <tr>\n",
       "      <th>28</th>\n",
       "      <td>64</td>\n",
       "      <td>http://www.pollyklaas.org/missing/kids/images/...</td>\n",
       "      <td>b'\\x80\\x03cnumpy.core.multiarray\\n_reconstruct...</td>\n",
       "    </tr>\n",
       "    <tr>\n",
       "      <th>29</th>\n",
       "      <td>65</td>\n",
       "      <td>http://www.pollyklaas.org/missing/kids/images/...</td>\n",
       "      <td>b'\\x80\\x03cnumpy.core.multiarray\\n_reconstruct...</td>\n",
       "    </tr>\n",
       "    <tr>\n",
       "      <th>30</th>\n",
       "      <td>35</td>\n",
       "      <td>http://www.pollyklaas.org/missing/kids/breitri...</td>\n",
       "      <td>b'\\x80\\x03cnumpy.core.multiarray\\n_reconstruct...</td>\n",
       "    </tr>\n",
       "  </tbody>\n",
       "</table>\n",
       "</div>"
      ],
      "text/plain": [
       "    id                                                url  \\\n",
       "26  62  http://www.pollyklaas.org/missing/kids/images/...   \n",
       "27  63  http://www.pollyklaas.org/missing/kids/images/...   \n",
       "28  64  http://www.pollyklaas.org/missing/kids/images/...   \n",
       "29  65  http://www.pollyklaas.org/missing/kids/images/...   \n",
       "30  35  http://www.pollyklaas.org/missing/kids/breitri...   \n",
       "\n",
       "                                          face_vector  \n",
       "26  b'\\x80\\x03cnumpy.core.multiarray\\n_reconstruct...  \n",
       "27  b'\\x80\\x03cnumpy.core.multiarray\\n_reconstruct...  \n",
       "28  b'\\x80\\x03cnumpy.core.multiarray\\n_reconstruct...  \n",
       "29  b'\\x80\\x03cnumpy.core.multiarray\\n_reconstruct...  \n",
       "30  b'\\x80\\x03cnumpy.core.multiarray\\n_reconstruct...  "
      ]
     },
     "execution_count": 293,
     "metadata": {},
     "output_type": "execute_result"
    }
   ],
   "source": [
    "victim_with_id = kepp_this.copy()\n",
    "victim_with_id.tail()"
   ]
  },
  {
   "cell_type": "code",
   "execution_count": 42,
   "metadata": {},
   "outputs": [
    {
     "data": {
      "text/plain": [
       "<matplotlib.image.AxesImage at 0x1249f7e50>"
      ]
     },
     "execution_count": 42,
     "metadata": {},
     "output_type": "execute_result"
    },
    {
     "data": {
      "image/png": "[encoded data removed]",
      "text/plain": [
       "<Figure size 432x288 with 1 Axes>"
      ]
     },
     "metadata": {
      "needs_background": "light"
     },
     "output_type": "display_data"
    }
   ],
   "source": [
    "plt.imshow(convertToRGB(gray_v))"
   ]
  },
  {
   "cell_type": "code",
   "execution_count": 194,
   "metadata": {},
   "outputs": [
    {
     "data": {
      "text/plain": [
       "array([[144, 137, 127, ...,  42,  42,  39],\n",
       "       [149, 131, 126, ...,  44,  45,  40],\n",
       "       [145, 126, 121, ...,  44,  46,  41],\n",
       "       ...,\n",
       "       [ 41,  40,  39, ...,  16,  17,  23],\n",
       "       [ 41,  41,  39, ...,  17,  18,  14],\n",
       "       [ 40,  41,  40, ...,  20,  21,  10]], dtype=uint8)"
      ]
     },
     "execution_count": 194,
     "metadata": {},
     "output_type": "execute_result"
    }
   ],
   "source": [
    "gray_v = get_vector(36)\n",
    "gray_v"
   ]
  },
  {
   "cell_type": "code",
   "execution_count": 195,
   "metadata": {},
   "outputs": [],
   "source": [
    "victim_with_id['face_vector'] = None"
   ]
  },
  {
   "cell_type": "code",
   "execution_count": 196,
   "metadata": {},
   "outputs": [],
   "source": [
    "victim_with_id.loc[i, 'face_vector'] = [gray_v]"
   ]
  },
  {
   "cell_type": "code",
   "execution_count": 216,
   "metadata": {},
   "outputs": [],
   "source": [
    "import pickle"
   ]
  },
  {
   "cell_type": "code",
   "execution_count": 261,
   "metadata": {},
   "outputs": [],
   "source": [
    "victim_with_id.loc[i, 'face_vector'] = str(pickle.dumps(gray_v))"
   ]
  },
  {
   "cell_type": "code",
   "execution_count": null,
   "metadata": {},
   "outputs": [],
   "source": []
  },
  {
   "cell_type": "code",
   "execution_count": 274,
   "metadata": {},
   "outputs": [],
   "source": [
    "victim_with_id['face_vector'] = victim_with_id['id'].apply(lambda row: str(pickle.dumps(get_vector(row))))"
   ]
  },
  {
   "cell_type": "code",
   "execution_count": 294,
   "metadata": {},
   "outputs": [],
   "source": [
    "victim_with_id.to_sql('victim_photo', con=engine, if_exists='append', index=False)"
   ]
  },
  {
   "cell_type": "code",
   "execution_count": 312,
   "metadata": {},
   "outputs": [
    {
     "data": {
      "text/html": [
       "<div>\n",
       "<style scoped>\n",
       "    .dataframe tbody tr th:only-of-type {\n",
       "        vertical-align: middle;\n",
       "    }\n",
       "\n",
       "    .dataframe tbody tr th {\n",
       "        vertical-align: top;\n",
       "    }\n",
       "\n",
       "    .dataframe thead th {\n",
       "        text-align: right;\n",
       "    }\n",
       "</style>\n",
       "<table border=\"1\" class=\"dataframe\">\n",
       "  <thead>\n",
       "    <tr style=\"text-align: right;\">\n",
       "      <th></th>\n",
       "      <th>id</th>\n",
       "      <th>url</th>\n",
       "      <th>face_vector</th>\n",
       "    </tr>\n",
       "  </thead>\n",
       "  <tbody>\n",
       "    <tr>\n",
       "      <th>26</th>\n",
       "      <td>62</td>\n",
       "      <td>http://www.pollyklaas.org/missing/kids/images/...</td>\n",
       "      <td>[[4, 4, 4, 4, 6, 6, 7, 6, 4, 4, 4, 5, 5, 5, 9,...</td>\n",
       "    </tr>\n",
       "    <tr>\n",
       "      <th>27</th>\n",
       "      <td>63</td>\n",
       "      <td>http://www.pollyklaas.org/missing/kids/images/...</td>\n",
       "      <td>[[137, 142, 148, 152, 154, 149, 139, 128, 120,...</td>\n",
       "    </tr>\n",
       "    <tr>\n",
       "      <th>28</th>\n",
       "      <td>64</td>\n",
       "      <td>http://www.pollyklaas.org/missing/kids/images/...</td>\n",
       "      <td>[[47, 50, 51, 51, 50, 45, 43, 41, 40, 40, 40, ...</td>\n",
       "    </tr>\n",
       "    <tr>\n",
       "      <th>29</th>\n",
       "      <td>65</td>\n",
       "      <td>http://www.pollyklaas.org/missing/kids/images/...</td>\n",
       "      <td>[[31, 31, 34, 35, 36, 36, 36, 35, 34, 33, 33, ...</td>\n",
       "    </tr>\n",
       "    <tr>\n",
       "      <th>30</th>\n",
       "      <td>35</td>\n",
       "      <td>http://www.pollyklaas.org/missing/kids/breitri...</td>\n",
       "      <td>[[19, 15, 14, 16, 16, 14, 12, 21, 24, 19, 15, ...</td>\n",
       "    </tr>\n",
       "  </tbody>\n",
       "</table>\n",
       "</div>"
      ],
      "text/plain": [
       "    id                                                url  \\\n",
       "26  62  http://www.pollyklaas.org/missing/kids/images/...   \n",
       "27  63  http://www.pollyklaas.org/missing/kids/images/...   \n",
       "28  64  http://www.pollyklaas.org/missing/kids/images/...   \n",
       "29  65  http://www.pollyklaas.org/missing/kids/images/...   \n",
       "30  35  http://www.pollyklaas.org/missing/kids/breitri...   \n",
       "\n",
       "                                          face_vector  \n",
       "26  [[4, 4, 4, 4, 6, 6, 7, 6, 4, 4, 4, 5, 5, 5, 9,...  \n",
       "27  [[137, 142, 148, 152, 154, 149, 139, 128, 120,...  \n",
       "28  [[47, 50, 51, 51, 50, 45, 43, 41, 40, 40, 40, ...  \n",
       "29  [[31, 31, 34, 35, 36, 36, 36, 35, 34, 33, 33, ...  \n",
       "30  [[19, 15, 14, 16, 16, 14, 12, 21, 24, 19, 15, ...  "
      ]
     },
     "execution_count": 312,
     "metadata": {},
     "output_type": "execute_result"
    }
   ],
   "source": [
    "tmp = pd.read_sql_query(\"select * from victim_photo\", open_connection())\n",
    "tmp['face_vector'] = tmp['face_vector'].apply(lambda row: pickle.loads(eval(row)))\n",
    "tmp = tmp.loc[tmp['face_vector'].notnull()]\n",
    "tmp.tail()"
   ]
  },
  {
   "cell_type": "code",
   "execution_count": null,
   "metadata": {},
   "outputs": [],
   "source": []
  },
  {
   "cell_type": "code",
   "execution_count": null,
   "metadata": {},
   "outputs": [],
   "source": []
  },
  {
   "cell_type": "markdown",
   "metadata": {},
   "source": [
    "Load and Compare\n",
    "=="
   ]
  },
  {
   "cell_type": "code",
   "execution_count": 297,
   "metadata": {},
   "outputs": [
    {
     "data": {
      "text/plain": [
       "<matplotlib.image.AxesImage at 0x12ffc8550>"
      ]
     },
     "execution_count": 297,
     "metadata": {},
     "output_type": "execute_result"
    },
    {
     "data": {
      "image/png": "[encoded data removed]",
      "text/plain": [
       "<Figure size 432x288 with 1 Axes>"
      ]
     },
     "metadata": {
      "needs_background": "light"
     },
     "output_type": "display_data"
    }
   ],
   "source": [
    "cap = cv2.VideoCapture(0)\n",
    "ret, image_cap = cap.read()\n",
    "gray = cv2.cvtColor(image_cap, cv2.COLOR_BGR2GRAY)\n",
    "faces = haar_cascade_face.detectMultiScale(gray, 1.1, 2)\n",
    "gray_cap = get_gray(faces, image_cap, gray)\n",
    "\n",
    "H, W = gray_cap.shape\n",
    "gray_cap_area = H*W\n",
    "\n",
    "plt.imshow(convertToRGB(gray_cap))"
   ]
  },
  {
   "cell_type": "code",
   "execution_count": 310,
   "metadata": {},
   "outputs": [
    {
     "data": {
      "text/plain": [
       "0.5033167884587845"
      ]
     },
     "execution_count": 310,
     "metadata": {},
     "output_type": "execute_result"
    }
   ],
   "source": [
    "compare_images(gray_cap, tmp.loc[0, 'face_vector'], return_image=False)"
   ]
  },
  {
   "cell_type": "code",
   "execution_count": 315,
   "metadata": {},
   "outputs": [
    {
     "name": "stdout",
     "output_type": "stream",
     "text": [
      "0:00:01.351000\n"
     ]
    }
   ],
   "source": [
    "now = pd.datetime.now()\n",
    "tmp = pd.read_sql_query(\"select * from victim_photo\", open_connection())\n",
    "tmp['face_vector'] = tmp['face_vector'].apply(lambda row: pickle.loads(eval(row)))\n",
    "tmp = tmp.loc[tmp['face_vector'].notnull()]\n",
    "tmp['face_vector'].apply(lambda row: compare_images(gray_cap, row, return_image=False))\n",
    "print(pd.datetime.now() - now)"
   ]
  },
  {
   "cell_type": "code",
   "execution_count": null,
   "metadata": {},
   "outputs": [],
   "source": []
  },
  {
   "cell_type": "code",
   "execution_count": null,
   "metadata": {},
   "outputs": [],
   "source": []
  },
  {
   "cell_type": "code",
   "execution_count": null,
   "metadata": {},
   "outputs": [],
   "source": []
  },
  {
   "cell_type": "code",
   "execution_count": null,
   "metadata": {},
   "outputs": [],
   "source": []
  }
 ],
 "metadata": {
  "kernelspec": {
   "display_name": "Python 3",
   "language": "python",
   "name": "python3"
  },
  "language_info": {
   "codemirror_mode": {
    "name": "ipython",
    "version": 3
   },
   "file_extension": ".py",
   "mimetype": "text/x-python",
   "name": "python",
   "nbconvert_exporter": "python",
   "pygments_lexer": "ipython3",
   "version": "3.7.4"
  }
 },
 "nbformat": 4,
 "nbformat_minor": 2
}
